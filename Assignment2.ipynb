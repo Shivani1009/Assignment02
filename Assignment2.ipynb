{
 "cells": [
  {
   "cell_type": "markdown",
   "id": "2601ab28-561d-4d96-b222-c5ef563b3b22",
   "metadata": {},
   "source": [
    "Q1. How do you comment code in Python? What are the different types of comments?"
   ]
  },
  {
   "cell_type": "markdown",
   "id": "52a21468-9918-48e1-8c9b-173b7e8caac5",
   "metadata": {},
   "source": [
    "1. Single line comment using '#' sign."
   ]
  },
  {
   "cell_type": "code",
   "execution_count": 1,
   "id": "e13d7dcd-67fd-43e7-ab07-e197e2f50d3b",
   "metadata": {},
   "outputs": [],
   "source": [
    "#Hello world"
   ]
  },
  {
   "cell_type": "markdown",
   "id": "26864eef-7dfa-49e5-b4ef-fd464e92ae5c",
   "metadata": {},
   "source": [
    "Multiline comment using \"\"\" \"\"\" or '''"
   ]
  },
  {
   "cell_type": "code",
   "execution_count": 3,
   "id": "0c453ccc-982c-4a06-b0b6-0684bd2c568c",
   "metadata": {},
   "outputs": [
    {
     "data": {
      "text/plain": [
       "'Hello world.\\nWelcome to my webpage\\nThis is my first page.'"
      ]
     },
     "execution_count": 3,
     "metadata": {},
     "output_type": "execute_result"
    }
   ],
   "source": [
    "'''Hello world.\n",
    "Welcome to my webpage\n",
    "This is my first page.'''"
   ]
  },
  {
   "cell_type": "markdown",
   "id": "4a0188bf-ece7-4036-89d2-66833a170fd1",
   "metadata": {},
   "source": [
    "Q2. What are variables in Python? How do you declare and assign values to variables?"
   ]
  },
  {
   "cell_type": "markdown",
   "id": "bf9cdbd6-9283-472c-a1fd-cf66090de893",
   "metadata": {},
   "source": [
    "A Python variable is a reserved memory location to store values."
   ]
  },
  {
   "cell_type": "code",
   "execution_count": 4,
   "id": "008e6b20-6ac1-4180-8dd4-a0db4eab3aa4",
   "metadata": {},
   "outputs": [],
   "source": [
    "a=45"
   ]
  },
  {
   "cell_type": "code",
   "execution_count": 5,
   "id": "402e0ac8-3d13-4372-ab21-6915d00a7c0e",
   "metadata": {},
   "outputs": [],
   "source": [
    "b='Home'"
   ]
  },
  {
   "cell_type": "markdown",
   "id": "fe041e05-e1b2-48ba-867f-cd31778b1fce",
   "metadata": {},
   "source": [
    "Q3. How do you convert one data type to another in Python?"
   ]
  },
  {
   "cell_type": "code",
   "execution_count": 6,
   "id": "3fb1ba61-cde7-474d-8e70-d051becbaa3f",
   "metadata": {},
   "outputs": [
    {
     "data": {
      "text/plain": [
       "49"
      ]
     },
     "execution_count": 6,
     "metadata": {},
     "output_type": "execute_result"
    }
   ],
   "source": [
    "int(49.55)"
   ]
  },
  {
   "cell_type": "code",
   "execution_count": 7,
   "id": "6e2eb893-d653-4b2b-b3c2-91f6e2f814e8",
   "metadata": {},
   "outputs": [
    {
     "data": {
      "text/plain": [
       "50.0"
      ]
     },
     "execution_count": 7,
     "metadata": {},
     "output_type": "execute_result"
    }
   ],
   "source": [
    "float(50)"
   ]
  },
  {
   "cell_type": "code",
   "execution_count": 8,
   "id": "02e5de29-4d94-4e8c-9846-156cbfa8e4da",
   "metadata": {},
   "outputs": [
    {
     "data": {
      "text/plain": [
       "'60'"
      ]
     },
     "execution_count": 8,
     "metadata": {},
     "output_type": "execute_result"
    }
   ],
   "source": [
    "str(60)"
   ]
  },
  {
   "cell_type": "markdown",
   "id": "0bd977f0-f7d6-4a7a-b5a5-222bee9d8f79",
   "metadata": {},
   "source": [
    "Q4. How do you write and execute a Python script from the command line?"
   ]
  },
  {
   "cell_type": "code",
   "execution_count": 11,
   "id": "ee0c4e30-cacd-48b9-bfb2-399bc34e2380",
   "metadata": {},
   "outputs": [
    {
     "name": "stdin",
     "output_type": "stream",
     "text": [
      "enter you attendance 78\n"
     ]
    },
    {
     "name": "stdout",
     "output_type": "stream",
     "text": [
      "you got 3 marks\n"
     ]
    }
   ],
   "source": [
    "attendance=int(input('enter you attendance'))\n",
    "if attendance>=85:\n",
    "    print('you got 5 marks')\n",
    "elif attendance>=80 and attendance<85:\n",
    "    print('you got 4 marks')\n",
    "elif attendance>=75 and attendance<80:\n",
    "    print('you got 3 marks')\n",
    "elif attendance>=70 and attendance<75:\n",
    "    print('you got 2 marks')\n",
    "elif attendance>=60 and attendance<70:\n",
    "    print('you got 1 marks')\n",
    "else:\n",
    "    print('you got 0 marks')"
   ]
  },
  {
   "cell_type": "markdown",
   "id": "20db9c1c-462b-4191-8959-980917cb65f4",
   "metadata": {},
   "source": [
    "Q5. Given a list my_list = [1, 2, 3, 4, 5], write the code to slice the list and obtain the sub-list [2, 3]."
   ]
  },
  {
   "cell_type": "code",
   "execution_count": 12,
   "id": "cb5e3e55-bca4-4a02-ad0a-3b5c8134f29e",
   "metadata": {},
   "outputs": [],
   "source": [
    "my_list=[1,2,3,4,5,6]"
   ]
  },
  {
   "cell_type": "code",
   "execution_count": 14,
   "id": "74d72d0a-4250-492e-aaac-80dad329fd50",
   "metadata": {},
   "outputs": [
    {
     "data": {
      "text/plain": [
       "[2, 3]"
      ]
     },
     "execution_count": 14,
     "metadata": {},
     "output_type": "execute_result"
    }
   ],
   "source": [
    "my_list[1:3]"
   ]
  },
  {
   "cell_type": "markdown",
   "id": "754989f5-076a-4848-b758-700895db39d2",
   "metadata": {},
   "source": [
    "Q6. What is a complex number in mathematics, and how is it represented in Python?"
   ]
  },
  {
   "cell_type": "markdown",
   "id": "b0fc3c78-86dd-4c8a-99ff-792b78ca133d",
   "metadata": {},
   "source": [
    "In mathematices complex number is represented as 4+5i i indicates imaginary number.\n",
    "In python represented as:"
   ]
  },
  {
   "cell_type": "code",
   "execution_count": 16,
   "id": "108c7927-b102-4125-961e-0053dd446ef2",
   "metadata": {},
   "outputs": [],
   "source": [
    "c=4+5j"
   ]
  },
  {
   "cell_type": "code",
   "execution_count": 17,
   "id": "5fc2cfae-b3b4-494f-bb9f-47cca7d6c59a",
   "metadata": {},
   "outputs": [
    {
     "data": {
      "text/plain": [
       "complex"
      ]
     },
     "execution_count": 17,
     "metadata": {},
     "output_type": "execute_result"
    }
   ],
   "source": [
    "type(c)"
   ]
  },
  {
   "cell_type": "markdown",
   "id": "30fece31-987d-4952-acdd-15dbfcb75010",
   "metadata": {},
   "source": [
    "Q7. What is the correct way to declare a variable named age and assign the value 25 to it?"
   ]
  },
  {
   "cell_type": "code",
   "execution_count": 18,
   "id": "6bbae79c-00d3-4fc5-89f4-98487e367737",
   "metadata": {},
   "outputs": [],
   "source": [
    "age=25"
   ]
  },
  {
   "cell_type": "markdown",
   "id": "36199cb9-046a-431d-b931-90ce625189e1",
   "metadata": {},
   "source": [
    "Q8. Declare a variable named price and assign the value 9.99 to it. What data type does this variable\n",
    "belong to?"
   ]
  },
  {
   "cell_type": "code",
   "execution_count": 19,
   "id": "05adf994-32b1-4890-ab23-adb65c6b39b9",
   "metadata": {},
   "outputs": [],
   "source": [
    "price=9.99"
   ]
  },
  {
   "cell_type": "code",
   "execution_count": 20,
   "id": "7d48a703-c156-41af-aa0d-632c3f71f168",
   "metadata": {},
   "outputs": [
    {
     "data": {
      "text/plain": [
       "float"
      ]
     },
     "execution_count": 20,
     "metadata": {},
     "output_type": "execute_result"
    }
   ],
   "source": [
    "type(price)"
   ]
  },
  {
   "cell_type": "markdown",
   "id": "44cc6a5b-1903-4857-9fcb-9012ba785f59",
   "metadata": {},
   "source": [
    "Q9. Create a variable named name and assign your full name to it as a string. How would you print the\n",
    "value of this variable?"
   ]
  },
  {
   "cell_type": "code",
   "execution_count": 21,
   "id": "9d11e6f9-9303-4e6f-84d1-c287e4b88504",
   "metadata": {},
   "outputs": [],
   "source": [
    "Name='Shivani Sharma'"
   ]
  },
  {
   "cell_type": "code",
   "execution_count": 22,
   "id": "0ec222f3-5b2b-4fb6-8d15-d3822f7fac07",
   "metadata": {},
   "outputs": [
    {
     "data": {
      "text/plain": [
       "'Shivani Sharma'"
      ]
     },
     "execution_count": 22,
     "metadata": {},
     "output_type": "execute_result"
    }
   ],
   "source": [
    "Name"
   ]
  },
  {
   "cell_type": "markdown",
   "id": "646a0f20-5d60-4130-ace7-8fa612370d0e",
   "metadata": {},
   "source": [
    "Q10. Given the string \"Hello, World!\", extract the substring \"World\"."
   ]
  },
  {
   "cell_type": "code",
   "execution_count": 23,
   "id": "cd38cf07-1073-47cf-9589-3a38d8543528",
   "metadata": {},
   "outputs": [],
   "source": [
    "s=\"Hello, World\""
   ]
  },
  {
   "cell_type": "code",
   "execution_count": 24,
   "id": "3461ac80-59da-4d21-93b6-ed8de10a41ef",
   "metadata": {},
   "outputs": [
    {
     "data": {
      "text/plain": [
       "'World'"
      ]
     },
     "execution_count": 24,
     "metadata": {},
     "output_type": "execute_result"
    }
   ],
   "source": [
    "s[7:12]"
   ]
  },
  {
   "cell_type": "markdown",
   "id": "2ed9cee2-0fc4-46fe-8140-d68ca57555f6",
   "metadata": {},
   "source": [
    "Q11. Create a variable named \"is_student\" and assign it a boolean value indicating whether you are\n",
    "currently a student or not."
   ]
  },
  {
   "cell_type": "code",
   "execution_count": 25,
   "id": "958a1932-3789-4c13-ae31-086d3180d195",
   "metadata": {},
   "outputs": [],
   "source": [
    "is_student=True"
   ]
  },
  {
   "cell_type": "code",
   "execution_count": 26,
   "id": "fc2123da-a194-4430-9e30-7ef07590bcb5",
   "metadata": {},
   "outputs": [
    {
     "data": {
      "text/plain": [
       "True"
      ]
     },
     "execution_count": 26,
     "metadata": {},
     "output_type": "execute_result"
    }
   ],
   "source": [
    "is_student"
   ]
  },
  {
   "cell_type": "code",
   "execution_count": null,
   "id": "532382d0-c7d4-438d-95af-c4c32d9b97a7",
   "metadata": {},
   "outputs": [],
   "source": []
  }
 ],
 "metadata": {
  "kernelspec": {
   "display_name": "Python 3 (ipykernel)",
   "language": "python",
   "name": "python3"
  },
  "language_info": {
   "codemirror_mode": {
    "name": "ipython",
    "version": 3
   },
   "file_extension": ".py",
   "mimetype": "text/x-python",
   "name": "python",
   "nbconvert_exporter": "python",
   "pygments_lexer": "ipython3",
   "version": "3.10.8"
  }
 },
 "nbformat": 4,
 "nbformat_minor": 5
}
